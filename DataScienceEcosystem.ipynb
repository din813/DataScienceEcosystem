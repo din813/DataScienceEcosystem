{
 "cells": [
  {
   "cell_type": "markdown",
   "id": "6b5e237d-fa3b-476a-ab43-1d89995bdce5",
   "metadata": {},
   "source": [
    "# Data Science Tools and Ecosystem"
   ]
  },
  {
   "cell_type": "markdown",
   "id": "1e6cb1d6-0ef9-4092-8ef8-1b4949d387d7",
   "metadata": {},
   "source": [
    "## In this notebook, Data Science Tools and Ecosystem are summarized."
   ]
  },
  {
   "cell_type": "markdown",
   "id": "33a2bf07-9d76-4187-8033-675725117fb4",
   "metadata": {},
   "source": [
    "# Data Science Tools and Ecosystem Summary\n",
    "\n",
    "In this notebook, I provide a summary of various data science tools and the broader ecosystem. Explore key tools, libraries, and practices commonly used in the field of data science.\n",
    "\n",
    "**Objectives:**\n",
    "- List popular languages for Data Science.\n",
    "- Introduce common libraries used by Data Scientists.\n",
    "- Demonstrate basic arithmetic operations in Python.\n",
    "- Convert minutes to hours using Python.\n",
    "- Summarize key takeaways from the Data Science Tools and Ecosystem course.\n"
   ]
  },
  {
   "cell_type": "markdown",
   "id": "57cf7fe4-223a-4eec-9d7b-6eeb281b9d0e",
   "metadata": {},
   "source": [
    "Some of the popular languages that Data Scientists use are:"
   ]
  },
  {
   "cell_type": "markdown",
   "id": "c184b5f2-8b54-4f34-a369-1cfadb209dfe",
   "metadata": {},
   "source": [
    "1. Python\n",
    "2. R\n",
    "3. SQL\n",
    "4. Julia\n",
    "5. MATLAB"
   ]
  },
  {
   "cell_type": "markdown",
   "id": "5f36a46c-6444-497d-871d-7ba3bd8e0d26",
   "metadata": {},
   "source": [
    "Some of the commonly used libraries used by Data Scientists include:"
   ]
  },
  {
   "cell_type": "markdown",
   "id": "b05fd973-14a7-4bbf-95f0-1d6ae42fd7ab",
   "metadata": {},
   "source": [
    "1. NumPy\n",
    "2. ggplot2\n",
    "3. scikit-learn\n",
    "4. NLTK\n",
    "5. Apache Spark"
   ]
  },
  {
   "cell_type": "markdown",
   "id": "052cb0a3-a140-4295-8922-5ec85a752b2a",
   "metadata": {},
   "source": [
    "| Data Science Tools        |\n",
    "|---------------------------|\n",
    "| Jupyter Notebook          |\n",
    "| RStudio                   |\n",
    "| VSCode with Python        |\n"
   ]
  },
  {
   "cell_type": "markdown",
   "id": "a9b26a46-2f8d-4df8-aea1-823425a79301",
   "metadata": {
    "tags": []
   },
   "source": [
    "### Below are a few examples of evaluating arithmetic expressions in Python.\n",
    "\n",
    "1. Subtraction\n",
    "2. Multiplication\n",
    "3. Division"
   ]
  },
  {
   "cell_type": "code",
   "execution_count": 7,
   "id": "1ff05cf2-1282-49a4-b08f-1e292d55f709",
   "metadata": {
    "tags": []
   },
   "outputs": [
    {
     "data": {
      "text/plain": [
       "17"
      ]
     },
     "execution_count": 7,
     "metadata": {},
     "output_type": "execute_result"
    }
   ],
   "source": [
    "# This a simple arithmetic expression to mutiply then add integers\n",
    "(3*4)+5"
   ]
  },
  {
   "cell_type": "code",
   "execution_count": 5,
   "id": "782e71f0-9b6b-4468-818e-de3826d36bdd",
   "metadata": {
    "tags": []
   },
   "outputs": [
    {
     "name": "stdout",
     "output_type": "stream",
     "text": [
      "3.3333333333333335\n"
     ]
    }
   ],
   "source": [
    "# This will convert 200 minutes to hours by dividing by 60.\n",
    "minutes = 200\n",
    "hours = minutes / 60\n",
    "print(hours)"
   ]
  },
  {
   "cell_type": "markdown",
   "id": "67dd94e3-112e-4559-9d3e-c861986ed14f",
   "metadata": {},
   "source": [
    "## Author\n",
    "\n",
    "Din Mohammad Dohan"
   ]
  }
 ],
 "metadata": {
  "kernelspec": {
   "display_name": "Python",
   "language": "python",
   "name": "conda-env-python-py"
  },
  "language_info": {
   "codemirror_mode": {
    "name": "ipython",
    "version": 3
   },
   "file_extension": ".py",
   "mimetype": "text/x-python",
   "name": "python",
   "nbconvert_exporter": "python",
   "pygments_lexer": "ipython3",
   "version": "3.7.12"
  }
 },
 "nbformat": 4,
 "nbformat_minor": 5
}
